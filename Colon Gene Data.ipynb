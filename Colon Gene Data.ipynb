{
 "cells": [
  {
   "cell_type": "raw",
   "metadata": {},
   "source": [
    "http://genomics-pubs.princeton.edu/oncology/affydata/index.html "
   ]
  },
  {
   "cell_type": "markdown",
   "metadata": {
    "toc": true
   },
   "source": [
    "<h1>Table of Contents<span class=\"tocSkip\"></span></h1>\n",
    "<div class=\"toc\"><ul class=\"toc-item\"><li><span><a href=\"#Data-Imputation\" data-toc-modified-id=\"Data-Imputation-1\"><span class=\"toc-item-num\">1&nbsp;&nbsp;</span>Data Imputation</a></span></li><li><span><a href=\"#Data-Pre-processing\" data-toc-modified-id=\"Data-Pre-processing-2\"><span class=\"toc-item-num\">2&nbsp;&nbsp;</span>Data Pre-processing</a></span><ul class=\"toc-item\"><li><span><a href=\"#Misc.-Cleaning\" data-toc-modified-id=\"Misc.-Cleaning-2.1\"><span class=\"toc-item-num\">2.1&nbsp;&nbsp;</span>Misc. Cleaning</a></span></li><li><span><a href=\"#Data-Normalization/Standardization\" data-toc-modified-id=\"Data-Normalization/Standardization-2.2\"><span class=\"toc-item-num\">2.2&nbsp;&nbsp;</span>Data Normalization/Standardization</a></span></li><li><span><a href=\"#SMOTE\" data-toc-modified-id=\"SMOTE-2.3\"><span class=\"toc-item-num\">2.3&nbsp;&nbsp;</span>SMOTE</a></span></li><li><span><a href=\"#Data-Plotting\" data-toc-modified-id=\"Data-Plotting-2.4\"><span class=\"toc-item-num\">2.4&nbsp;&nbsp;</span>Data Plotting</a></span></li></ul></li><li><span><a href=\"#SVM-with-PCA\" data-toc-modified-id=\"SVM-with-PCA-3\"><span class=\"toc-item-num\">3&nbsp;&nbsp;</span>SVM with PCA</a></span></li><li><span><a href=\"#Random-Forest-Parameter-Search\" data-toc-modified-id=\"Random-Forest-Parameter-Search-4\"><span class=\"toc-item-num\">4&nbsp;&nbsp;</span>Random Forest Parameter Search</a></span><ul class=\"toc-item\"><li><span><a href=\"#First-Sweep---Randomized-Search-(30-configurations,-3-cv)\" data-toc-modified-id=\"First-Sweep---Randomized-Search-(30-configurations,-3-cv)-4.1\"><span class=\"toc-item-num\">4.1&nbsp;&nbsp;</span>First Sweep - Randomized Search (30 configurations, 3-cv)</a></span></li><li><span><a href=\"#Second-Sweep---Grid-Search-(all-grid-configurations,-3-cv)\" data-toc-modified-id=\"Second-Sweep---Grid-Search-(all-grid-configurations,-3-cv)-4.2\"><span class=\"toc-item-num\">4.2&nbsp;&nbsp;</span>Second Sweep - Grid Search (all grid configurations, 3 cv)</a></span></li><li><span><a href=\"#Third-Sweep---RepeatedStratifiedKFold-with-Top-Models-from-Sweep-2\" data-toc-modified-id=\"Third-Sweep---RepeatedStratifiedKFold-with-Top-Models-from-Sweep-2-4.3\"><span class=\"toc-item-num\">4.3&nbsp;&nbsp;</span>Third Sweep - RepeatedStratifiedKFold with Top Models from Sweep 2</a></span></li></ul></li></ul></div>"
   ]
  },
  {
   "cell_type": "code",
   "execution_count": 1,
   "metadata": {
    "code_folding": [
     0
    ]
   },
   "outputs": [
    {
     "name": "stdout",
     "output_type": "stream",
     "text": [
      "Python version: 3.6.6 |Anaconda custom (64-bit)| (default, Jun 28 2018, 11:07:29) \n",
      "[GCC 4.2.1 Compatible Clang 4.0.1 (tags/RELEASE_401/final)]\n",
      "pandas version: 0.23.1\n",
      "matplotlib version: 2.2.2\n",
      "NumPy version: 1.14.5\n",
      "SciPy version: 1.1.0\n",
      "scikit-learn version: 0.19.1\n",
      "-------------------------\n"
     ]
    }
   ],
   "source": [
    "# import packages\n",
    "\n",
    "import sys\n",
    "print(\"Python version: {}\". format(sys.version))\n",
    "\n",
    "import pandas as pd\n",
    "print(\"pandas version: {}\". format(pd.__version__))\n",
    "\n",
    "import matplotlib\n",
    "print(\"matplotlib version: {}\". format(matplotlib.__version__))\n",
    "import matplotlib.pyplot as plt\n",
    "\n",
    "import numpy as np\n",
    "print(\"NumPy version: {}\". format(np.__version__))\n",
    "\n",
    "import scipy as sp \n",
    "print(\"SciPy version: {}\". format(sp.__version__)) \n",
    "\n",
    "import sklearn \n",
    "print(\"scikit-learn version: {}\". format(sklearn.__version__))\n",
    "\n",
    "#misc\n",
    "import random\n",
    "import time\n",
    "\n",
    "print('-'*25)"
   ]
  },
  {
   "cell_type": "markdown",
   "metadata": {},
   "source": [
    "## Data Imputation"
   ]
  },
  {
   "cell_type": "code",
   "execution_count": 2,
   "metadata": {},
   "outputs": [
    {
     "data": {
      "text/html": [
       "<div>\n",
       "<style scoped>\n",
       "    .dataframe tbody tr th:only-of-type {\n",
       "        vertical-align: middle;\n",
       "    }\n",
       "\n",
       "    .dataframe tbody tr th {\n",
       "        vertical-align: top;\n",
       "    }\n",
       "\n",
       "    .dataframe thead th {\n",
       "        text-align: right;\n",
       "    }\n",
       "</style>\n",
       "<table border=\"1\" class=\"dataframe\">\n",
       "  <thead>\n",
       "    <tr style=\"text-align: right;\">\n",
       "      <th></th>\n",
       "      <th>(Hsa.3004,)</th>\n",
       "      <th>(Hsa.13491,)</th>\n",
       "      <th>(Hsa.13491,)</th>\n",
       "      <th>(Hsa.37254,)</th>\n",
       "      <th>(Hsa.541,)</th>\n",
       "      <th>(Hsa.20836,)</th>\n",
       "      <th>(Hsa.1977,)</th>\n",
       "      <th>(Hsa.44472,)</th>\n",
       "      <th>(Hsa.3087,)</th>\n",
       "      <th>(Hsa.1447,)</th>\n",
       "      <th>...</th>\n",
       "      <th>(Hsa.2618,)</th>\n",
       "      <th>(Hsa.27285,)</th>\n",
       "      <th>(Hsa.41260,)</th>\n",
       "      <th>(Hsa.14822,)</th>\n",
       "      <th>(Hsa.336,)</th>\n",
       "      <th>(Hsa.984,)</th>\n",
       "      <th>(Hsa.35124,)</th>\n",
       "      <th>(Hsa.3952,)</th>\n",
       "      <th>(Hsa.32734,)</th>\n",
       "      <th>(Hsa.9683,)</th>\n",
       "    </tr>\n",
       "  </thead>\n",
       "  <tbody>\n",
       "    <tr>\n",
       "      <th>0</th>\n",
       "      <td>8589.4163</td>\n",
       "      <td>5468.2409</td>\n",
       "      <td>4263.4075</td>\n",
       "      <td>4064.9357</td>\n",
       "      <td>1997.8929</td>\n",
       "      <td>5282.3250</td>\n",
       "      <td>2169.7200</td>\n",
       "      <td>2773.4212</td>\n",
       "      <td>7526.3862</td>\n",
       "      <td>4607.6762</td>\n",
       "      <td>...</td>\n",
       "      <td>99.110714</td>\n",
       "      <td>67.56125</td>\n",
       "      <td>259.91250</td>\n",
       "      <td>138.89875</td>\n",
       "      <td>88.23250</td>\n",
       "      <td>39.667857</td>\n",
       "      <td>67.82875</td>\n",
       "      <td>75.67750</td>\n",
       "      <td>83.52250</td>\n",
       "      <td>28.70125</td>\n",
       "    </tr>\n",
       "    <tr>\n",
       "      <th>1</th>\n",
       "      <td>9164.2537</td>\n",
       "      <td>6719.5295</td>\n",
       "      <td>4883.4487</td>\n",
       "      <td>3718.1589</td>\n",
       "      <td>2015.2214</td>\n",
       "      <td>5569.9071</td>\n",
       "      <td>3849.0588</td>\n",
       "      <td>2793.3875</td>\n",
       "      <td>7017.7338</td>\n",
       "      <td>4802.2524</td>\n",
       "      <td>...</td>\n",
       "      <td>126.789290</td>\n",
       "      <td>92.23875</td>\n",
       "      <td>96.27625</td>\n",
       "      <td>150.59000</td>\n",
       "      <td>82.23750</td>\n",
       "      <td>85.033333</td>\n",
       "      <td>152.19500</td>\n",
       "      <td>186.56750</td>\n",
       "      <td>44.47250</td>\n",
       "      <td>16.77375</td>\n",
       "    </tr>\n",
       "    <tr>\n",
       "      <th>2</th>\n",
       "      <td>3825.7050</td>\n",
       "      <td>6970.3614</td>\n",
       "      <td>5369.9688</td>\n",
       "      <td>4705.6500</td>\n",
       "      <td>1166.5536</td>\n",
       "      <td>1572.1679</td>\n",
       "      <td>1325.4025</td>\n",
       "      <td>1472.2587</td>\n",
       "      <td>3296.9512</td>\n",
       "      <td>2786.5821</td>\n",
       "      <td>...</td>\n",
       "      <td>151.877380</td>\n",
       "      <td>82.71500</td>\n",
       "      <td>31.10250</td>\n",
       "      <td>193.92000</td>\n",
       "      <td>76.97250</td>\n",
       "      <td>224.620240</td>\n",
       "      <td>31.22500</td>\n",
       "      <td>42.65625</td>\n",
       "      <td>16.09250</td>\n",
       "      <td>15.15625</td>\n",
       "    </tr>\n",
       "    <tr>\n",
       "      <th>3</th>\n",
       "      <td>6246.4487</td>\n",
       "      <td>7823.5341</td>\n",
       "      <td>5955.8350</td>\n",
       "      <td>3975.5643</td>\n",
       "      <td>2002.6131</td>\n",
       "      <td>2130.5429</td>\n",
       "      <td>1531.1425</td>\n",
       "      <td>1714.6312</td>\n",
       "      <td>3869.7850</td>\n",
       "      <td>4989.4071</td>\n",
       "      <td>...</td>\n",
       "      <td>152.595240</td>\n",
       "      <td>41.68375</td>\n",
       "      <td>5.92500</td>\n",
       "      <td>183.00625</td>\n",
       "      <td>74.52875</td>\n",
       "      <td>67.710714</td>\n",
       "      <td>48.33875</td>\n",
       "      <td>42.52000</td>\n",
       "      <td>49.98250</td>\n",
       "      <td>16.08500</td>\n",
       "    </tr>\n",
       "    <tr>\n",
       "      <th>4</th>\n",
       "      <td>3230.3287</td>\n",
       "      <td>3694.4500</td>\n",
       "      <td>3400.7400</td>\n",
       "      <td>3463.5857</td>\n",
       "      <td>2181.4202</td>\n",
       "      <td>2922.7821</td>\n",
       "      <td>2069.2463</td>\n",
       "      <td>2948.5750</td>\n",
       "      <td>3303.3712</td>\n",
       "      <td>3109.4131</td>\n",
       "      <td>...</td>\n",
       "      <td>126.464290</td>\n",
       "      <td>76.60375</td>\n",
       "      <td>161.35000</td>\n",
       "      <td>61.70125</td>\n",
       "      <td>54.56375</td>\n",
       "      <td>223.359520</td>\n",
       "      <td>73.09875</td>\n",
       "      <td>57.59875</td>\n",
       "      <td>7.48875</td>\n",
       "      <td>31.81250</td>\n",
       "    </tr>\n",
       "  </tbody>\n",
       "</table>\n",
       "<p>5 rows × 2000 columns</p>\n",
       "</div>"
      ],
      "text/plain": [
       "   (Hsa.3004,)  (Hsa.13491,)  (Hsa.13491,)  (Hsa.37254,)  (Hsa.541,)  \\\n",
       "0    8589.4163     5468.2409     4263.4075     4064.9357   1997.8929   \n",
       "1    9164.2537     6719.5295     4883.4487     3718.1589   2015.2214   \n",
       "2    3825.7050     6970.3614     5369.9688     4705.6500   1166.5536   \n",
       "3    6246.4487     7823.5341     5955.8350     3975.5643   2002.6131   \n",
       "4    3230.3287     3694.4500     3400.7400     3463.5857   2181.4202   \n",
       "\n",
       "   (Hsa.20836,)  (Hsa.1977,)  (Hsa.44472,)  (Hsa.3087,)  (Hsa.1447,)  \\\n",
       "0     5282.3250    2169.7200     2773.4212    7526.3862    4607.6762   \n",
       "1     5569.9071    3849.0588     2793.3875    7017.7338    4802.2524   \n",
       "2     1572.1679    1325.4025     1472.2587    3296.9512    2786.5821   \n",
       "3     2130.5429    1531.1425     1714.6312    3869.7850    4989.4071   \n",
       "4     2922.7821    2069.2463     2948.5750    3303.3712    3109.4131   \n",
       "\n",
       "      ...       (Hsa.2618,)  (Hsa.27285,)  (Hsa.41260,)  (Hsa.14822,)  \\\n",
       "0     ...         99.110714      67.56125     259.91250     138.89875   \n",
       "1     ...        126.789290      92.23875      96.27625     150.59000   \n",
       "2     ...        151.877380      82.71500      31.10250     193.92000   \n",
       "3     ...        152.595240      41.68375       5.92500     183.00625   \n",
       "4     ...        126.464290      76.60375     161.35000      61.70125   \n",
       "\n",
       "   (Hsa.336,)  (Hsa.984,)  (Hsa.35124,)  (Hsa.3952,)  (Hsa.32734,)  \\\n",
       "0    88.23250   39.667857      67.82875     75.67750      83.52250   \n",
       "1    82.23750   85.033333     152.19500    186.56750      44.47250   \n",
       "2    76.97250  224.620240      31.22500     42.65625      16.09250   \n",
       "3    74.52875   67.710714      48.33875     42.52000      49.98250   \n",
       "4    54.56375  223.359520      73.09875     57.59875       7.48875   \n",
       "\n",
       "   (Hsa.9683,)  \n",
       "0     28.70125  \n",
       "1     16.77375  \n",
       "2     15.15625  \n",
       "3     16.08500  \n",
       "4     31.81250  \n",
       "\n",
       "[5 rows x 2000 columns]"
      ]
     },
     "execution_count": 2,
     "metadata": {},
     "output_type": "execute_result"
    }
   ],
   "source": [
    "ColonX = pd.read_csv(\"ColonX.csv\")\n",
    "ColonX.drop('Unnamed: 0', axis = 1, inplace = True)\n",
    "\n",
    "ColonNames = pd.read_csv(\"ColonNames.csv\")\n",
    "ColonNames.drop('Unnamed: 0', axis = 1, inplace = True)\n",
    "\n",
    "ColonX.columns = ColonNames\n",
    "ColonX.head()\n",
    "\n"
   ]
  },
  {
   "cell_type": "code",
   "execution_count": 3,
   "metadata": {},
   "outputs": [
    {
     "name": "stdout",
     "output_type": "stream",
     "text": [
      "[1 0 1 0 1 0 1 0 1 0 1 0 1 0 1 0 1 0 1 0 1 0 1 0 1 1 1 1 1 1 1 1 1 1 1 1 1\n",
      " 1 0 1 1 0 0 1 1 1 1 0 1 0 0 1 1 0 0 1 1 1 1 0 1 0]\n"
     ]
    }
   ],
   "source": [
    "# 40 tumor, 22 non tumor\n",
    "ColonY = pd.read_csv(\"ColonY.csv\")\n",
    "ColonY.drop('Unnamed: 0', axis = 1, inplace = True)\n",
    "ColonY = ColonY - 1\n",
    "ColonY = np.array(ColonY).ravel()\n",
    "\n",
    "print(ColonY)"
   ]
  },
  {
   "cell_type": "code",
   "execution_count": 4,
   "metadata": {},
   "outputs": [
    {
     "name": "stdout",
     "output_type": "stream",
     "text": [
      "Number of patients: 62\n",
      "Number of genes: 2000\n",
      "(62, 2000)\n",
      "Number of patients: 62\n",
      "(62,)\n"
     ]
    }
   ],
   "source": [
    "# ColonX dataset info\n",
    "print(\"Number of patients: \"+ str(ColonX.shape[0]))\n",
    "print(\"Number of genes: \"+str(ColonX.shape[1]))\n",
    "print(ColonX.shape)\n",
    "\n",
    "# ColonY dataset info\n",
    "print(\"Number of patients: \"+str(ColonY.shape[0]))\n",
    "print(ColonY.shape)"
   ]
  },
  {
   "cell_type": "markdown",
   "metadata": {},
   "source": [
    "## Data Pre-processing\n"
   ]
  },
  {
   "cell_type": "markdown",
   "metadata": {},
   "source": [
    "### Misc. Cleaning"
   ]
  },
  {
   "cell_type": "code",
   "execution_count": 5,
   "metadata": {},
   "outputs": [
    {
     "name": "stdout",
     "output_type": "stream",
     "text": [
      "0 genes with >50% missing values excluded.\n"
     ]
    }
   ],
   "source": [
    "original = len(ColonX)\n",
    "ColonX = ColonX.dropna(thresh=0.5*len(ColonX.index), axis=1)\n",
    "print(str(original-len(ColonX)) + \" genes with >50% missing values excluded.\")"
   ]
  },
  {
   "cell_type": "code",
   "execution_count": 6,
   "metadata": {},
   "outputs": [
    {
     "data": {
      "text/plain": [
       "0"
      ]
     },
     "execution_count": 6,
     "metadata": {},
     "output_type": "execute_result"
    }
   ],
   "source": [
    "# No missing values\n",
    "\n",
    "ColonX.isnull().sum().sum()"
   ]
  },
  {
   "cell_type": "code",
   "execution_count": 7,
   "metadata": {},
   "outputs": [
    {
     "name": "stdout",
     "output_type": "stream",
     "text": [
      "Duplicate genes/columns removed: 89\n"
     ]
    }
   ],
   "source": [
    "# Handle duplicate genes in ColonX (columns are duplicated), no duplicate patients\n",
    "\n",
    "colCount = ColonX.shape[1]\n",
    "ColonX = ColonX.loc[:,~ColonX.columns.duplicated()]\n",
    "print(\"Duplicate genes/columns removed: \" + str(colCount - ColonX.shape[1]))"
   ]
  },
  {
   "cell_type": "code",
   "execution_count": 8,
   "metadata": {},
   "outputs": [
    {
     "name": "stdout",
     "output_type": "stream",
     "text": [
      "Columns with 0 variance removed: 0\n"
     ]
    }
   ],
   "source": [
    "# Handle genes with all the same values\n",
    "\n",
    "colCount = ColonX.shape[1]\n",
    "ColonX = ColonX.drop(ColonX.std()[(ColonX.std() == 0)].index, axis=1)\n",
    "print(\"Columns with 0 variance removed: \" + str(colCount - ColonX.shape[1]))"
   ]
  },
  {
   "cell_type": "code",
   "execution_count": 9,
   "metadata": {},
   "outputs": [
    {
     "name": "stdout",
     "output_type": "stream",
     "text": [
      "Check for null/infinite values: \n",
      "False\n",
      "True\n",
      "--------------------\n",
      "Should be false: False\n",
      "Should be true: True\n"
     ]
    }
   ],
   "source": [
    "# Check for null/infite values\n",
    "\n",
    "print(\"Check for null/infinite values: \")\n",
    "\n",
    "print(np.any(np.isnan(ColonX)))\n",
    "print(np.all(np.isfinite(ColonX)))\n",
    "#print(np.any(X_train.isnull().sum() != 0))\n",
    "\n",
    "ColonX = ColonX.dropna(axis = 1)\n",
    "print(\"-\"*20)\n",
    "\n",
    "print(\"Should be false: \" + str(np.any(np.isnan(ColonX))))\n",
    "print(\"Should be true: \" + str(np.all(np.isfinite(ColonX))))"
   ]
  },
  {
   "cell_type": "markdown",
   "metadata": {},
   "source": [
    "### Data Normalization/Standardization"
   ]
  },
  {
   "cell_type": "code",
   "execution_count": 10,
   "metadata": {},
   "outputs": [
    {
     "data": {
      "text/plain": [
       "0"
      ]
     },
     "execution_count": 10,
     "metadata": {},
     "output_type": "execute_result"
    }
   ],
   "source": [
    "from sklearn.preprocessing import FunctionTransformer\n",
    "from sklearn.preprocessing import QuantileTransformer\n",
    "\n",
    "# Log normalization\n",
    "\n",
    "logtransformer = FunctionTransformer(np.log1p)\n",
    "ColonX = pd.DataFrame(logtransformer.transform(ColonX), \n",
    "                           index = ColonX.index, columns = ColonX.columns)\n",
    "\n",
    "ColonX.isin([np.nan, np.inf, -np.inf]).sum().sum()"
   ]
  },
  {
   "cell_type": "code",
   "execution_count": 11,
   "metadata": {},
   "outputs": [],
   "source": [
    "# Quantile normalization\n",
    "quantiletransformer = QuantileTransformer(random_state = 0)\n",
    "\n",
    "ColonX = pd.DataFrame(quantiletransformer.fit_transform(ColonX), \n",
    "                          index = ColonX.index, columns = ColonX.columns)\n"
   ]
  },
  {
   "cell_type": "code",
   "execution_count": 12,
   "metadata": {},
   "outputs": [],
   "source": [
    "# Standardization\n",
    "ColonX = pd.DataFrame((ColonX-ColonX.mean())/ColonX.std(),\n",
    "                           index = ColonX.index, columns = ColonX.columns)\n"
   ]
  },
  {
   "cell_type": "code",
   "execution_count": 13,
   "metadata": {},
   "outputs": [
    {
     "data": {
      "text/plain": [
       "0"
      ]
     },
     "execution_count": 13,
     "metadata": {},
     "output_type": "execute_result"
    }
   ],
   "source": [
    "# Value Check\n",
    "ColonX.head()\n",
    "ColonX.isin([np.nan, np.inf, -np.inf]).sum().sum()"
   ]
  },
  {
   "cell_type": "markdown",
   "metadata": {},
   "source": [
    "### SMOTE"
   ]
  },
  {
   "cell_type": "raw",
   "metadata": {},
   "source": [
    "from imblearn.over_sampling import SMOTE\n",
    "\n",
    "smote = SMOTE(ratio = \"all\", kind = \"svm\", \n",
    "                       k_neighbors = 5, m_neighbors = 10,\n",
    "                       random_state = 0)\n",
    "\n",
    "X_columns = X_train.columns\n",
    "X_train, y_train = smote.fit_sample(X_train, y_train)"
   ]
  },
  {
   "cell_type": "raw",
   "metadata": {},
   "source": [
    "X_train = pd.DataFrame(X_train, columns = X_columns)\n",
    "y_train = pd.Series(y_train)\n",
    "\n",
    "print(y_train.value_counts()/y_train.shape[0])\n",
    "print(y_test.value_counts()/y_test.shape[0])"
   ]
  },
  {
   "cell_type": "markdown",
   "metadata": {},
   "source": [
    "### Data Plotting"
   ]
  },
  {
   "cell_type": "code",
   "execution_count": 14,
   "metadata": {},
   "outputs": [
    {
     "name": "stdout",
     "output_type": "stream",
     "text": [
      "Index([('Hsa.231',), ('Hsa.41165',), ('Hsa.18787',)], dtype='object')\n"
     ]
    },
    {
     "data": {
      "image/png": "[encoded data removed]",
      "text/plain": [
       "<Figure size 432x288 with 3 Axes>"
      ]
     },
     "metadata": {},
     "output_type": "display_data"
    }
   ],
   "source": [
    "# Sample 9 column names from gene expression matrix\n",
    "n_plots = 3\n",
    "\n",
    "dataSample = ColonX.sample(n_plots, axis = 1).columns\n",
    "print(dataSample)\n",
    "\n",
    "# Set up plot\n",
    "\n",
    "\n",
    "# Build plot\n",
    "for i in range(len(dataSample)):\n",
    "    plt.subplot(n_plots,1,i+1)\n",
    "    plt.hist(ColonX[dataSample[i]], bins = 100)\n",
    "    \n"
   ]
  },
  {
   "cell_type": "markdown",
   "metadata": {},
   "source": [
    "## SVM with PCA"
   ]
  },
  {
   "cell_type": "code",
   "execution_count": null,
   "metadata": {},
   "outputs": [],
   "source": [
    "from sklearn.model_selection import RepeatedStratifiedKFold\n",
    "import itertools\n",
    "\n",
    "from sklearn.decomposition import PCA\n",
    "\n",
    "from sklearn.metrics import roc_auc_score\n",
    "from sklearn.metrics import confusion_matrix\n",
    "\n",
    "# Classifiers\n",
    "from sklearn.neighbors import KNeighborsClassifier\n",
    "from sklearn.svm import LinearSVC, SVC\n",
    "from sklearn.ensemble import RandomForestClassifier\n",
    "from sklearn.naive_bayes import GaussianNB\n",
    "\n",
    "\n",
    "X = np.array(ColonX.copy(deep = False))\n",
    "y = np.array(ColonY.copy(deep = False))\n",
    "\n",
    "k_fold = RepeatedStratifiedKFold(3, n_repeats = 50, random_state = 100)\n",
    "\n",
    "\n",
    "# Keys = classifiers, stored-values = roc_aucs\n",
    "clfDict = {SVC(kernel = \"linear\", C = 0.001) : [],\n",
    "           KNeighborsClassifier(n_neighbors = 3, p = 2): [],\n",
    "           RandomForestClassifier(n_estimators= 300, min_samples_split= 2,\n",
    "                                  min_samples_leaf= 1, max_features= None,\n",
    "                                  max_depth= None, bootstrap= True) : [],\n",
    "           GaussianNB() : []\n",
    "          }\n",
    "\n",
    "\n"
   ]
  },
  {
   "cell_type": "code",
   "execution_count": null,
   "metadata": {},
   "outputs": [],
   "source": [
    "from IPython.display import HTML\n",
    "HTML('''<script>\n",
    "code_show_err=false; \n",
    "function code_toggle_err() {\n",
    " if (code_show_err){\n",
    " $('div.output_stderr').hide();\n",
    " } else {\n",
    " $('div.output_stderr').show();\n",
    " }\n",
    " code_show_err = !code_show_err\n",
    "} \n",
    "$( document ).ready(code_toggle_err);\n",
    "</script>\n",
    "To toggle on/off output_stderr, click <a href=\"javascript:code_toggle_err()\">here</a>.''')"
   ]
  },
  {
   "cell_type": "code",
   "execution_count": null,
   "metadata": {
    "scrolled": false
   },
   "outputs": [],
   "source": [
    "# Perform 3-fold cross validation n times for all classifiers\n",
    "\n",
    "for clf in clfDict.keys():\n",
    "    \n",
    "    k = 1\n",
    "    for k, (train, test) in enumerate(k_fold.split(X, y)):\n",
    "\n",
    "        pca = PCA(n_components = 200)\n",
    "        pca.fit(X[train])\n",
    "        # Careful not to change X explicitly\n",
    "        X_train_PCA = pca.transform(X[train].copy())\n",
    "        X_test_PCA = pca.transform(X[test].copy())\n",
    "\n",
    "        clf.fit(X_train_PCA, y[train])\n",
    "        y_pred = clf.predict(X_test_PCA)\n",
    "        ###accuracy = clf.score(X_test_PCA, y[test])\n",
    "        \n",
    "        roc_auc = roc_auc_score(y[test], y_pred)\n",
    "        clfDict[clf].append(roc_auc)\n",
    "\n",
    "\n",
    "        '''\n",
    "        print(\"[fold {0}] PCA, accuracy: {1:.5f}, ROC_AUC: {2:.5f}\".\n",
    "              format(k, accuracy, roc_auc))\n",
    "\n",
    "\n",
    "        # Plot confusion matrix\n",
    "        print(confusion_matrix(y[test], y_pred))\n",
    "        cm = confusion_matrix(y[test], y_pred)/y[test].shape[0]\n",
    "        print(cm)\n",
    "        '''    \n",
    "        \n",
    "\n",
    "\n",
    "        ###print(\"-\"*50)\n",
    "        k+=1"
   ]
  },
  {
   "cell_type": "code",
   "execution_count": null,
   "metadata": {
    "scrolled": true
   },
   "outputs": [],
   "source": [
    "results = pd.DataFrame.from_dict(clfDict)\n",
    "results.columns = [\"SVM\", \"KNN\", \"RF\", \"NB\"]\n",
    "results.mean()"
   ]
  },
  {
   "cell_type": "markdown",
   "metadata": {},
   "source": [
    "## Random Forest Parameter Search"
   ]
  },
  {
   "cell_type": "markdown",
   "metadata": {},
   "source": [
    "### First Sweep - Randomized Search (30 configurations, 3-cv)"
   ]
  },
  {
   "cell_type": "code",
   "execution_count": null,
   "metadata": {},
   "outputs": [],
   "source": [
    "from sklearn.ensemble import RandomForestClassifier\n",
    "from sklearn.model_selection import RandomizedSearchCV\n",
    "from pprint import pprint\n",
    "\n",
    "#------------------------------\n",
    "# Random Forest Parameters\n",
    "\n",
    "\n",
    "# Number of trees in random forest\n",
    "n_estimators = [120, 300, 500, 800, 1200]\n",
    "# Number of features to consider at every split\n",
    "max_features = ['log2', 'sqrt', None]\n",
    "# Maximum number of levels in tree\n",
    "max_depth = [5, 8, 15, 25, 30, None]\n",
    "# Minimum number of samples required to split a node\n",
    "min_samples_split = [2, 5, 10, 15, 100]\n",
    "# Minimum number of samples required at each leaf node\n",
    "min_samples_leaf = [1, 2, 5, 10]\n",
    "# Method of selecting samples for training each tree\n",
    "bootstrap = [True, False]\n",
    "\n",
    "# RandomSearch Grid\n",
    "random_grid = {'n_estimators': n_estimators,\n",
    "               'max_features': max_features,\n",
    "               'max_depth': max_depth,\n",
    "               'min_samples_split': min_samples_split,\n",
    "               'min_samples_leaf': min_samples_leaf,\n",
    "               'bootstrap': bootstrap}\n",
    "pprint(random_grid)"
   ]
  },
  {
   "cell_type": "code",
   "execution_count": null,
   "metadata": {
    "scrolled": true
   },
   "outputs": [],
   "source": [
    "# Base model\n",
    "rf = RandomForestClassifier()\n",
    "\n",
    "# Random search of parameters, using 3 fold cross validation, \n",
    "# search across 100 different combinations, and use all available cores\n",
    "rf_random = RandomizedSearchCV(estimator = rf, param_distributions = random_grid, \n",
    "                               n_iter = 30, cv = 3, verbose = 1, scoring = \"roc_auc\",\n",
    "                               random_state = 0, n_jobs = -1)\n",
    "\n",
    "# Fit rf_random model\n",
    "rf_random.fit(ColonX, ColonY)\n"
   ]
  },
  {
   "cell_type": "code",
   "execution_count": null,
   "metadata": {},
   "outputs": [],
   "source": [
    "print(rf_random.best_params_)\n",
    "print(rf_random.best_score_)"
   ]
  },
  {
   "cell_type": "code",
   "execution_count": null,
   "metadata": {
    "scrolled": true
   },
   "outputs": [],
   "source": [
    "cv_results = pd.DataFrame(rf_random.cv_results_)\n",
    "print(cv_results.columns)\n",
    "display(cv_results.sort_values(by=\"rank_test_score\"))"
   ]
  },
  {
   "cell_type": "code",
   "execution_count": null,
   "metadata": {},
   "outputs": [],
   "source": [
    "import pickle\n",
    "cv_results.to_pickle(\"RFSweep1\")\n"
   ]
  },
  {
   "cell_type": "markdown",
   "metadata": {},
   "source": [
    "### Second Sweep - Grid Search (all grid configurations, 3 cv)"
   ]
  },
  {
   "cell_type": "code",
   "execution_count": null,
   "metadata": {},
   "outputs": [],
   "source": [
    "from sklearn.model_selection import GridSearchCV\n",
    "\n",
    "rf = RandomForestClassifier()\n",
    "\n",
    "#------------------------------\n",
    "# Random Forest Parameters\n",
    "\n",
    "\n",
    "# Number of trees in random forest\n",
    "n_estimators = [120, 300, 500, 800]\n",
    "# Number of features to consider at every split\n",
    "max_features = ['sqrt', None]\n",
    "# Maximum number of levels in tree\n",
    "max_depth = [5, 8, 15, 25, None]\n",
    "# Minimum number of samples required to split a node\n",
    "min_samples_split = [2, 5, 10, 15]\n",
    "# Minimum number of samples required at each leaf node\n",
    "min_samples_leaf = [2, 5]\n",
    "# Method of selecting samples for training each tree\n",
    "bootstrap = [True, False]\n",
    "\n",
    "# GridSearch Grid\n",
    "grid = {'n_estimators': n_estimators,\n",
    "               'max_features': max_features,\n",
    "               'max_depth': max_depth,\n",
    "               'min_samples_split': min_samples_split,\n",
    "               'min_samples_leaf': min_samples_leaf,\n",
    "               'bootstrap': bootstrap}\n",
    "pprint(grid)"
   ]
  },
  {
   "cell_type": "code",
   "execution_count": null,
   "metadata": {
    "scrolled": false
   },
   "outputs": [],
   "source": [
    "rf_grid = GridSearchCV(rf, grid, cv = 3, verbose = 1, n_jobs = 2, scoring = \"f1\")\n",
    "rf_grid.fit(ColonX, ColonY)"
   ]
  },
  {
   "cell_type": "code",
   "execution_count": null,
   "metadata": {},
   "outputs": [],
   "source": [
    "print(rf_grid.best_params_)\n",
    "print(rf_grid.best_score_)"
   ]
  },
  {
   "cell_type": "code",
   "execution_count": null,
   "metadata": {},
   "outputs": [],
   "source": [
    "cv_results2 = pd.DataFrame(rf_grid.cv_results_)\n",
    "print(cv_results2.columns)\n",
    "cv_results2 = cv_results2.sort_values(by=\"rank_test_score\")\n",
    "display(cv_results2.sort_values(by=\"rank_test_score\"))"
   ]
  },
  {
   "cell_type": "code",
   "execution_count": null,
   "metadata": {},
   "outputs": [],
   "source": [
    "import pickle\n",
    "cv_results2.to_pickle(\"RFSweep2\")"
   ]
  },
  {
   "cell_type": "markdown",
   "metadata": {},
   "source": [
    "### Third Sweep - RepeatedStratifiedKFold with Top Models from Sweep 2"
   ]
  },
  {
   "cell_type": "code",
   "execution_count": 24,
   "metadata": {},
   "outputs": [],
   "source": [
    "# Packages needed for running Third Sweep only\n",
    "\n",
    "from sklearn.model_selection import RepeatedStratifiedKFold\n",
    "from sklearn.ensemble import RandomForestClassifier\n",
    "from sklearn.decomposition import PCA\n",
    "from sklearn.metrics import roc_auc_score"
   ]
  },
  {
   "cell_type": "code",
   "execution_count": 25,
   "metadata": {},
   "outputs": [
    {
     "ename": "NameError",
     "evalue": "name 'cv_results2' is not defined",
     "output_type": "error",
     "traceback": [
      "\u001b[0;31m---------------------------------------------------------------------------\u001b[0m",
      "\u001b[0;31mNameError\u001b[0m                                 Traceback (most recent call last)",
      "\u001b[0;32m<ipython-input-25-4f7dd2797732>\u001b[0m in \u001b[0;36m<module>\u001b[0;34m()\u001b[0m\n\u001b[1;32m      1\u001b[0m \u001b[0;32mfor\u001b[0m \u001b[0mi\u001b[0m \u001b[0;32min\u001b[0m \u001b[0mrange\u001b[0m\u001b[0;34m(\u001b[0m\u001b[0;36m5\u001b[0m\u001b[0;34m)\u001b[0m\u001b[0;34m:\u001b[0m\u001b[0;34m\u001b[0m\u001b[0m\n\u001b[0;32m----> 2\u001b[0;31m     \u001b[0mprint\u001b[0m\u001b[0;34m(\u001b[0m\u001b[0mcv_results2\u001b[0m\u001b[0;34m[\u001b[0m\u001b[0;34m\"params\"\u001b[0m\u001b[0;34m]\u001b[0m\u001b[0;34m[\u001b[0m\u001b[0mi\u001b[0m\u001b[0;34m]\u001b[0m\u001b[0;34m)\u001b[0m\u001b[0;34m\u001b[0m\u001b[0m\n\u001b[0m",
      "\u001b[0;31mNameError\u001b[0m: name 'cv_results2' is not defined"
     ]
    }
   ],
   "source": [
    "for i in range(5):\n",
    "    print(cv_results2[\"params\"][i])\n"
   ]
  },
  {
   "cell_type": "code",
   "execution_count": 26,
   "metadata": {},
   "outputs": [],
   "source": [
    "X = np.array(ColonX.copy(deep = False))\n",
    "y = np.array(ColonY.copy())"
   ]
  },
  {
   "cell_type": "code",
   "execution_count": 27,
   "metadata": {},
   "outputs": [],
   "source": [
    "k_fold_rf  = RepeatedStratifiedKFold(3, n_repeats  = 20, random_state  = 100)\n",
    "\n",
    "\n",
    "# Keys  = classifiers, stored-values  = roc_aucs\n",
    "clfDict = { RandomForestClassifier(bootstrap = True, max_depth = 5,\n",
    "                                   max_features = \"sqrt\", min_samples_leaf = 2,\n",
    "                                   min_samples_split = 2, n_estimators = 120)  : [],\n",
    "           RandomForestClassifier(bootstrap = True, max_depth = 5,\n",
    "                                  max_features = \"sqrt\", min_samples_leaf = 2,\n",
    "                                  min_samples_split = 2, n_estimators = 300)  : [],\n",
    "           RandomForestClassifier(bootstrap = True, max_depth = 5,\n",
    "                                  max_features = \"sqrt\", min_samples_leaf = 2,\n",
    "                                  min_samples_split = 2, n_estimators = 500) : [],\n",
    "           RandomForestClassifier(bootstrap = True, max_depth = 5, \n",
    "                                 max_features = \"sqrt\", min_samples_leaf = 2, \n",
    "                                 min_samples_split = 2, n_estimators = 800)  : [],\n",
    "           RandomForestClassifier(bootstrap = True, max_depth = 5,\n",
    "                                 max_features = \"sqrt\", min_samples_leaf = 2,\n",
    "                                 min_samples_split = 5, n_estimators = 120)  : []\n",
    "          }"
   ]
  },
  {
   "cell_type": "code",
   "execution_count": 28,
   "metadata": {},
   "outputs": [
    {
     "name": "stderr",
     "output_type": "stream",
     "text": [
      "100%|██████████| 5/5 [02:17<00:00, 27.58s/it]\n"
     ]
    }
   ],
   "source": [
    "from tqdm import tqdm\n",
    "\n",
    "for clf in tqdm(clfDict.keys()):\n",
    "\n",
    "    k = 1\n",
    "    for k, (train, test) in enumerate(k_fold_rf.split(X, y)):\n",
    "\n",
    "        pca = PCA(n_components = 200)\n",
    "        pca.fit(X[train])\n",
    "        # Careful not to change X explicitly\n",
    "        X_train_PCA = pca.transform(X[train].copy())\n",
    "        X_test_PCA = pca.transform(X[test].copy())\n",
    "\n",
    "        clf.fit(X_train_PCA, y[train])\n",
    "        y_pred = clf.predict(X_test_PCA)\n",
    "        ###accuracy = clf.score(X_test_PCA, y[test])\n",
    "\n",
    "        roc_auc = roc_auc_score(y[test], y_pred)\n",
    "        clfDict[clf].append(roc_auc)\n",
    "\n",
    "\n",
    "        '''\n",
    "        print(\"[fold {0}] PCA, accuracy: {1:.5f}, ROC_AUC: {2:.5f}\".\n",
    "              format(k, accuracy, roc_auc))\n",
    "\n",
    "\n",
    "        # Plot confusion matrix\n",
    "        print(confusion_matrix(y[test], y_pred))\n",
    "        cm = confusion_matrix(y[test], y_pred)/y[test].shape[0]\n",
    "        print(cm)\n",
    "        '''    \n",
    "\n",
    "\n",
    "\n",
    "        ###print(\"-\"*50)\n",
    "        k+=1"
   ]
  },
  {
   "cell_type": "code",
   "execution_count": 31,
   "metadata": {},
   "outputs": [
    {
     "name": "stderr",
     "output_type": "stream",
     "text": [
      "IOPub data rate exceeded.\n",
      "The notebook server will temporarily stop sending output\n",
      "to the client in order to avoid crashing it.\n",
      "To change this limit, set the config variable\n",
      "`--NotebookApp.iopub_data_rate_limit`.\n",
      "\n",
      "Current values:\n",
      "NotebookApp.iopub_data_rate_limit=1000000.0 (bytes/sec)\n",
      "NotebookApp.rate_limit_window=3.0 (secs)\n",
      "\n"
     ]
    }
   ],
   "source": [
    "results = pd.DataFrame.from_dict(clfDict)\n",
    "print(results)\n",
    "#results.columns = [\"1\", \"2\", \"3\", \"4\", \"5\"]\n",
    "#results.mean()"
   ]
  },
  {
   "cell_type": "code",
   "execution_count": null,
   "metadata": {},
   "outputs": [],
   "source": []
  }
 ],
 "metadata": {
  "kernelspec": {
   "display_name": "Python 3",
   "language": "python",
   "name": "python3"
  },
  "language_info": {
   "codemirror_mode": {
    "name": "ipython",
    "version": 3
   },
   "file_extension": ".py",
   "mimetype": "text/x-python",
   "name": "python",
   "nbconvert_exporter": "python",
   "pygments_lexer": "ipython3",
   "version": "3.6.6"
  },
  "toc": {
   "nav_menu": {},
   "number_sections": true,
   "sideBar": true,
   "skip_h1_title": true,
   "title_cell": "Table of Contents",
   "title_sidebar": "Contents",
   "toc_cell": true,
   "toc_position": {},
   "toc_section_display": true,
   "toc_window_display": false
  }
 },
 "nbformat": 4,
 "nbformat_minor": 2
}
